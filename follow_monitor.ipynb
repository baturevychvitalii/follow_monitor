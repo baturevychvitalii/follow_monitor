{
 "cells": [
  {
   "cell_type": "code",
   "execution_count": null,
   "id": "3c047287-89ef-485b-b64e-ffdd56d693eb",
   "metadata": {},
   "outputs": [],
   "source": [
    "import random\n",
    "def get_dummy_followings(handle):\n",
    "    ret = set();\n",
    "    while len(ret) < 6:\n",
    "        ret.add(random.randint(1,9))\n",
    "    return ret\n"
   ]
  },
  {
   "cell_type": "code",
   "execution_count": null,
   "id": "d7c267c9-91a4-4ad9-99c1-d5a36a5b4d7b",
   "metadata": {
    "editable": true,
    "scrolled": true,
    "slideshow": {
     "slide_type": ""
    },
    "tags": []
   },
   "outputs": [],
   "source": [
    "from tweety import Twitter, exceptions_\n",
    "\n",
    "# read cridentials from file\n",
    "# expecting 2 lines: email and passwd\n",
    "with open(\"cridentials.txt\", \"r\") as file:\n",
    "        cridentials = [line.strip() for line in file.readlines()]\n",
    "\n",
    "assert(len(cridentials) == 2)\n",
    "\n",
    "tweety_app = Twitter(\"lesgo\")\n",
    "tweety_app.sign_in(cridentials[0], cridentials[1])"
   ]
  },
  {
   "cell_type": "code",
   "execution_count": null,
   "id": "11fb7ab4-374b-4095-b253-79a1fa74acce",
   "metadata": {},
   "outputs": [],
   "source": [
    "#tweety_app.start()"
   ]
  },
  {
   "cell_type": "code",
   "execution_count": null,
   "id": "69f3e33d-ca06-4f58-9044-438fbf9a45d0",
   "metadata": {},
   "outputs": [],
   "source": [
    "def get_tweety_followings(handle):\n",
    "    try:\n",
    "        # purpusefully fetch first page, beacuse anyways all new followings appear here\n",
    "        fol = tweety_app.get_user_followings(handle);\n",
    "        return set([f.username for f in fol.users])\n",
    "    except exceptions_.UserNotFound as e:\n",
    "        return set();"
   ]
  },
  {
   "cell_type": "code",
   "execution_count": null,
   "id": "82c67543-7132-4d16-b857-6b3af21b448b",
   "metadata": {},
   "outputs": [],
   "source": [
    "# get a list of twitter handles, which will be checked for diff\n",
    "# treats each line in a file as a separate handle\n",
    "import random\n",
    "\n",
    "def get_interesting_accs():\n",
    "    with open(\"whitelist.txt\", \"r\") as file:\n",
    "        lines = [line.strip() for line in file.readlines()]\n",
    "    random.shuffle(lines)\n",
    "    return lines"
   ]
  },
  {
   "cell_type": "code",
   "execution_count": null,
   "id": "c40a52e7-b868-4bca-a545-04dcfad05327",
   "metadata": {},
   "outputs": [],
   "source": [
    "# the output function. for convenience\n",
    "from datetime import datetime\n",
    "\n",
    "def report(message, elements=None):\n",
    "    if (elements is not None):\n",
    "        print(message)\n",
    "        for element in elements:\n",
    "            print('https://twitter.com/' + element)         \n",
    "        message += str(elements)\n",
    "        \n",
    "    with open('log.txt', 'a') as file:\n",
    "        file.write(f'{datetime.now()}|{message}\\n')"
   ]
  },
  {
   "cell_type": "code",
   "execution_count": null,
   "id": "3158c30e-af28-471e-bd24-3171dd59a3a3",
   "metadata": {
    "editable": true,
    "slideshow": {
     "slide_type": ""
    },
    "tags": []
   },
   "outputs": [],
   "source": [
    "import time\n",
    "# prev_measures - dict [handle -> set of strings]\n",
    "# get_following_function - f(handle) -> set of strings\n",
    "def measure_diff(prev_measures, get_following_function):\n",
    "    print('maesuring following set diff with ', get_following_function.__name__)\n",
    "    # done again on every diff measurement, because the list can get updated\n",
    "    # TODO remove no longer tracked ones from dict\n",
    "    handles = get_interesting_accs();\n",
    "    amount_of_changes = 0;\n",
    "    \n",
    "    for handle in handles:\n",
    "        new_measurement = get_following_function(handle);\n",
    "        new_elements = new_measurement - prev_measures.get(handle, set());\n",
    "\n",
    "        if handle not in prev_measures:\n",
    "            report(f'[{handle}] new handle recognised')\n",
    "        elif len(new_elements) > 0:\n",
    "            report(f'[{handle}] new subscribtions: ', new_elements)\n",
    "            amount_of_changes += 1;\n",
    "            \n",
    "        prev_measures[handle] = new_measurement;\n",
    "        time.sleep(random.randint(3,15))\n",
    "\n",
    "    if amount_of_changes == 0:\n",
    "        report('No changes since last time');"
   ]
  },
  {
   "cell_type": "code",
   "execution_count": null,
   "id": "780827ca-4a9f-49b3-b889-598b56aceb9f",
   "metadata": {
    "editable": true,
    "scrolled": true,
    "slideshow": {
     "slide_type": ""
    },
    "tags": []
   },
   "outputs": [],
   "source": [
    "# serialization/deserialization of following state between launches\n",
    "import json\n",
    "import shutil\n",
    "import os\n",
    "\n",
    "# Function to convert set into list\n",
    "def set_default(obj):\n",
    "    if isinstance(obj, set):\n",
    "        return list(obj)\n",
    "    raise TypeError\n",
    "\n",
    "# Function to convert list back into set\n",
    "def set_decoder(dict_obj):\n",
    "    for key, value in dict_obj.items():\n",
    "        if isinstance(value, list):\n",
    "            dict_obj[key] = set(value)\n",
    "    return dict_obj\n",
    "\n",
    "# Serialization\n",
    "def serialize_measures(collection, destination_filename, backup=True):\n",
    "    if (backup and os.path.exists(destination_filename)):\n",
    "        print(f'{destination_filename} already exists, backing up')\n",
    "        shutil.move(destination_filename, destination_filename + '.backup')\n",
    "    \n",
    "    with open(destination_filename, 'w') as file:\n",
    "        file.write(json.dumps(collection, default=set_default))\n",
    "\n",
    "\n",
    "# Deserialization\n",
    "def deserialize_collection(filename):\n",
    "    result = dict()\n",
    "    with open(filename, 'r') as file:\n",
    "        result = json.loads(file.read(), object_hook=set_decoder)\n",
    "    return result\n",
    "#dict_obj_deserialized = json.loads(json_obj, object_hook=set_decoder)\n",
    "#print(\"Deserialized Dictionary:\", dict_obj_deserialized)\n"
   ]
  },
  {
   "cell_type": "code",
   "execution_count": null,
   "id": "171b972a-406d-4e07-9a36-91f80365dcb4",
   "metadata": {
    "editable": true,
    "slideshow": {
     "slide_type": ""
    },
    "tags": []
   },
   "outputs": [],
   "source": [
    "#there'll be more functions to choose from (tweety, tweepy)\n",
    "measures_file = 'serialized_measures.json';\n",
    "prev_measures = deserialize_collection(measures_file)\n",
    "\n",
    "assert(len(prev_measures) > 0)\n",
    "\n",
    "measure_diff(prev_measures, get_tweety_followings)\n",
    "serialize_measures(prev_measures, measures_file)\n",
    "    \n"
   ]
  },
  {
   "cell_type": "code",
   "execution_count": null,
   "id": "f606d724-8267-4772-86e1-c903aba80b1d",
   "metadata": {},
   "outputs": [],
   "source": []
  }
 ],
 "metadata": {
  "kernelspec": {
   "display_name": "Python 3 (ipykernel)",
   "language": "python",
   "name": "python3"
  },
  "language_info": {
   "codemirror_mode": {
    "name": "ipython",
    "version": 3
   },
   "file_extension": ".py",
   "mimetype": "text/x-python",
   "name": "python",
   "nbconvert_exporter": "python",
   "pygments_lexer": "ipython3",
   "version": "3.12.3"
  }
 },
 "nbformat": 4,
 "nbformat_minor": 5
}
